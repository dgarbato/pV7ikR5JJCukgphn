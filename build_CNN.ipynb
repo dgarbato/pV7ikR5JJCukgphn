{
 "cells": [
  {
   "cell_type": "markdown",
   "id": "b12a2f5d",
   "metadata": {},
   "source": [
    "**MonReader project**"
   ]
  },
  {
   "cell_type": "code",
   "execution_count": 1,
   "id": "ae78e0a8",
   "metadata": {},
   "outputs": [
    {
     "name": "stderr",
     "output_type": "stream",
     "text": [
      "C:\\Users\\dgarb\\anaconda3_reinstall\\lib\\site-packages\\scipy\\__init__.py:146: UserWarning: A NumPy version >=1.16.5 and <1.23.0 is required for this version of SciPy (detected version 1.24.4\n",
      "  warnings.warn(f\"A NumPy version >={np_minversion} and <{np_maxversion}\"\n"
     ]
    }
   ],
   "source": [
    "import os\n",
    "import numpy as np\n",
    "import tensorflow as tf\n",
    "from tensorflow.keras.preprocessing.image import ImageDataGenerator\n"
   ]
  },
  {
   "cell_type": "code",
   "execution_count": 2,
   "id": "70a8c3a0",
   "metadata": {},
   "outputs": [],
   "source": [
    "train_dir = r'C:\\Users\\dgarb\\OneDrive\\Documents\\APZIVA\\Progect 4\\images\\training'\n",
    "test_dir = test_dir = r'C:\\Users\\dgarb\\OneDrive\\Documents\\APZIVA\\Progect 4\\images\\testing'"
   ]
  },
  {
   "cell_type": "markdown",
   "id": "b28b206a",
   "metadata": {},
   "source": [
    "Define image generators for both train and test data:"
   ]
  },
  {
   "cell_type": "code",
   "execution_count": 3,
   "id": "5cf8d2ff",
   "metadata": {},
   "outputs": [
    {
     "name": "stdout",
     "output_type": "stream",
     "text": [
      "Found 2392 images belonging to 2 classes.\n",
      "Found 597 images belonging to 2 classes.\n"
     ]
    }
   ],
   "source": [
    "train_datagen = ImageDataGenerator(rescale=1./255) #normalizing \n",
    "test_datagen = ImageDataGenerator(rescale=1./255)\n",
    "\n",
    "train_generator = train_datagen.flow_from_directory(\n",
    "    train_dir,\n",
    "    target_size=(200, 200), \n",
    "    batch_size=32,          \n",
    "    class_mode='binary')       \n",
    "                            \n",
    "test_generator = test_datagen.flow_from_directory(\n",
    "    test_dir,\n",
    "    target_size=(200, 200),\n",
    "    batch_size=32,\n",
    "    class_mode='binary')"
   ]
  },
  {
   "cell_type": "markdown",
   "id": "b5cc093d",
   "metadata": {},
   "source": [
    "Determine which class is positive and which class is negative"
   ]
  },
  {
   "cell_type": "code",
   "execution_count": 4,
   "id": "b261ce08",
   "metadata": {},
   "outputs": [
    {
     "name": "stdout",
     "output_type": "stream",
     "text": [
      "Class Indices: {'flip': 0, 'notflip': 1}\n"
     ]
    }
   ],
   "source": [
    "print(\"Class Indices:\", train_generator.class_indices)"
   ]
  },
  {
   "cell_type": "code",
   "execution_count": 5,
   "id": "09f02112",
   "metadata": {},
   "outputs": [
    {
     "name": "stdout",
     "output_type": "stream",
     "text": [
      "Class Indices: {'flip': 0, 'notflip': 1}\n"
     ]
    }
   ],
   "source": [
    "print(\"Class Indices:\", test_generator.class_indices)"
   ]
  },
  {
   "cell_type": "markdown",
   "id": "0a2b0182",
   "metadata": {},
   "source": [
    "# CNN"
   ]
  },
  {
   "cell_type": "markdown",
   "id": "8c1fbc66",
   "metadata": {},
   "source": [
    "### iteration 1\n",
    "\n",
    "loss: 0.0248, val_accuracy: 0.9950"
   ]
  },
  {
   "cell_type": "code",
   "execution_count": 21,
   "id": "6eeb6541",
   "metadata": {},
   "outputs": [
    {
     "name": "stdout",
     "output_type": "stream",
     "text": [
      "Model: \"sequential_2\"\n",
      "_________________________________________________________________\n",
      " Layer (type)                Output Shape              Param #   \n",
      "=================================================================\n",
      " conv2d_4 (Conv2D)           (None, 198, 198, 32)      896       \n",
      "                                                                 \n",
      " max_pooling2d_4 (MaxPooling  (None, 99, 99, 32)       0         \n",
      " 2D)                                                             \n",
      "                                                                 \n",
      " conv2d_5 (Conv2D)           (None, 97, 97, 64)        18496     \n",
      "                                                                 \n",
      " max_pooling2d_5 (MaxPooling  (None, 48, 48, 64)       0         \n",
      " 2D)                                                             \n",
      "                                                                 \n",
      " flatten_2 (Flatten)         (None, 147456)            0         \n",
      "                                                                 \n",
      " dense_4 (Dense)             (None, 128)               18874496  \n",
      "                                                                 \n",
      " dense_5 (Dense)             (None, 1)                 129       \n",
      "                                                                 \n",
      "=================================================================\n",
      "Total params: 18,894,017\n",
      "Trainable params: 18,894,017\n",
      "Non-trainable params: 0\n",
      "_________________________________________________________________\n"
     ]
    }
   ],
   "source": [
    "from keras.models import Sequential\n",
    "from keras.layers import Conv2D, MaxPooling2D, Flatten, Dense\n",
    "\n",
    "# Initialize the CNN\n",
    "model = Sequential()\n",
    "\n",
    "# Add convolutional layer\n",
    "model.add(Conv2D(32, (3, 3), activation='relu', input_shape=(200, 200, 3)))  \n",
    "model.add(MaxPooling2D((2, 2)))\n",
    "\n",
    "# Add another convolutional layer\n",
    "model.add(Conv2D(64, (3, 3), activation='relu'))\n",
    "model.add(MaxPooling2D((2, 2)))\n",
    "\n",
    "\n",
    "\n",
    "model.add(Flatten())\n",
    "\n",
    "# Add a fully connected layer\n",
    "model.add(Dense(128, activation='relu')) \n",
    "\n",
    "\n",
    "# Add the output layer\n",
    "model.add(Dense(1, activation='sigmoid'))  \n",
    "\n",
    "# Compile the model\n",
    "model.compile(optimizer='adam', loss='binary_crossentropy', metrics=['accuracy'])\n",
    "\n",
    "# Print model summary\n",
    "model.summary()"
   ]
  },
  {
   "cell_type": "code",
   "execution_count": 22,
   "id": "2693d4d3",
   "metadata": {},
   "outputs": [
    {
     "name": "stdout",
     "output_type": "stream",
     "text": [
      "Epoch 1/10\n",
      "75/75 [==============================] - 125s 2s/step - loss: 0.6655 - accuracy: 0.7333 - val_loss: 0.4765 - val_accuracy: 0.7739\n",
      "Epoch 2/10\n",
      "75/75 [==============================] - 135s 2s/step - loss: 0.1455 - accuracy: 0.9473 - val_loss: 0.1047 - val_accuracy: 0.9682\n",
      "Epoch 3/10\n",
      "75/75 [==============================] - 135s 2s/step - loss: 0.0455 - accuracy: 0.9841 - val_loss: 0.1143 - val_accuracy: 0.9564\n",
      "Epoch 4/10\n",
      "75/75 [==============================] - 133s 2s/step - loss: 0.0191 - accuracy: 0.9946 - val_loss: 0.0344 - val_accuracy: 0.9899\n",
      "Epoch 5/10\n",
      "75/75 [==============================] - 138s 2s/step - loss: 0.0048 - accuracy: 0.9996 - val_loss: 0.0233 - val_accuracy: 0.9950\n",
      "Epoch 6/10\n",
      "75/75 [==============================] - 168s 2s/step - loss: 8.1629e-04 - accuracy: 1.0000 - val_loss: 0.0249 - val_accuracy: 0.9950\n",
      "Epoch 7/10\n",
      "75/75 [==============================] - 139s 2s/step - loss: 4.4760e-04 - accuracy: 1.0000 - val_loss: 0.0266 - val_accuracy: 0.9933\n",
      "Epoch 8/10\n",
      "75/75 [==============================] - 139s 2s/step - loss: 3.1098e-04 - accuracy: 1.0000 - val_loss: 0.0244 - val_accuracy: 0.9950\n",
      "Epoch 9/10\n",
      "75/75 [==============================] - 136s 2s/step - loss: 2.2439e-04 - accuracy: 1.0000 - val_loss: 0.0272 - val_accuracy: 0.9950\n",
      "Epoch 10/10\n",
      "75/75 [==============================] - 136s 2s/step - loss: 1.7907e-04 - accuracy: 1.0000 - val_loss: 0.0248 - val_accuracy: 0.9950\n"
     ]
    }
   ],
   "source": [
    "history1 = model.fit(train_generator, epochs=10, validation_data=test_generator)\n"
   ]
  },
  {
   "cell_type": "markdown",
   "id": "fc1d99ac",
   "metadata": {},
   "source": [
    "### Iteration 2\n",
    "\n",
    "In second convolutional layer change the number of filters to 32. It was 64 in iteration 1\n",
    "\n",
    "loss: 0.0317 - val_accuracy: 0.9950"
   ]
  },
  {
   "cell_type": "code",
   "execution_count": 23,
   "id": "6279f7bf",
   "metadata": {},
   "outputs": [
    {
     "name": "stdout",
     "output_type": "stream",
     "text": [
      "Model: \"sequential_3\"\n",
      "_________________________________________________________________\n",
      " Layer (type)                Output Shape              Param #   \n",
      "=================================================================\n",
      " conv2d_6 (Conv2D)           (None, 198, 198, 32)      896       \n",
      "                                                                 \n",
      " max_pooling2d_6 (MaxPooling  (None, 99, 99, 32)       0         \n",
      " 2D)                                                             \n",
      "                                                                 \n",
      " conv2d_7 (Conv2D)           (None, 97, 97, 32)        9248      \n",
      "                                                                 \n",
      " max_pooling2d_7 (MaxPooling  (None, 48, 48, 32)       0         \n",
      " 2D)                                                             \n",
      "                                                                 \n",
      " flatten_3 (Flatten)         (None, 73728)             0         \n",
      "                                                                 \n",
      " dense_6 (Dense)             (None, 128)               9437312   \n",
      "                                                                 \n",
      " dense_7 (Dense)             (None, 1)                 129       \n",
      "                                                                 \n",
      "=================================================================\n",
      "Total params: 9,447,585\n",
      "Trainable params: 9,447,585\n",
      "Non-trainable params: 0\n",
      "_________________________________________________________________\n"
     ]
    }
   ],
   "source": [
    "from keras.models import Sequential\n",
    "from keras.layers import Conv2D, MaxPooling2D, Flatten, Dense\n",
    "\n",
    "\n",
    "# Initialize the CNN\n",
    "model = Sequential()\n",
    "\n",
    "# Add convolutional layer\n",
    "model.add(Conv2D(32, (3, 3), activation='relu', input_shape=(200, 200, 3)))  \n",
    "model.add(MaxPooling2D((2, 2)))\n",
    "\n",
    "# Add another convolutional layer  \n",
    "model.add(Conv2D(32, (3, 3), activation='relu'))  # it was 64 in iteration 1\n",
    "model.add(MaxPooling2D((2, 2)))\n",
    "\n",
    "\n",
    "# Flatten the output of the convolutional layers\n",
    "model.add(Flatten())\n",
    "\n",
    "# Add a fully connected layer\n",
    "model.add(Dense(128, activation='relu'))\n",
    "\n",
    "# Add the output layer\n",
    "model.add(Dense(1, activation='sigmoid'))  # Sigmoid activation for binary classification\n",
    "\n",
    "# Compile the model\n",
    "model.compile(optimizer='adam', loss='binary_crossentropy', metrics=['accuracy'])\n",
    "\n",
    "# Print model summary\n",
    "model.summary()"
   ]
  },
  {
   "cell_type": "code",
   "execution_count": 24,
   "id": "2e17b9b1",
   "metadata": {},
   "outputs": [
    {
     "name": "stdout",
     "output_type": "stream",
     "text": [
      "Epoch 1/10\n",
      "75/75 [==============================] - 131s 2s/step - loss: 0.5316 - accuracy: 0.7471 - val_loss: 0.2282 - val_accuracy: 0.9146\n",
      "Epoch 2/10\n",
      "75/75 [==============================] - 130s 2s/step - loss: 0.1392 - accuracy: 0.9515 - val_loss: 0.1565 - val_accuracy: 0.9363\n",
      "Epoch 3/10\n",
      "75/75 [==============================] - 127s 2s/step - loss: 0.0611 - accuracy: 0.9783 - val_loss: 0.1206 - val_accuracy: 0.9447\n",
      "Epoch 4/10\n",
      "75/75 [==============================] - 131s 2s/step - loss: 0.0312 - accuracy: 0.9895 - val_loss: 0.0614 - val_accuracy: 0.9799\n",
      "Epoch 5/10\n",
      "75/75 [==============================] - 141s 2s/step - loss: 0.0132 - accuracy: 0.9967 - val_loss: 0.0355 - val_accuracy: 0.9933\n",
      "Epoch 6/10\n",
      "75/75 [==============================] - 143s 2s/step - loss: 0.0464 - accuracy: 0.9841 - val_loss: 0.0598 - val_accuracy: 0.9765\n",
      "Epoch 7/10\n",
      "75/75 [==============================] - 156s 2s/step - loss: 0.0096 - accuracy: 0.9983 - val_loss: 0.0277 - val_accuracy: 0.9916\n",
      "Epoch 8/10\n",
      "75/75 [==============================] - 131s 2s/step - loss: 0.0015 - accuracy: 1.0000 - val_loss: 0.0306 - val_accuracy: 0.9933\n",
      "Epoch 9/10\n",
      "75/75 [==============================] - 132s 2s/step - loss: 5.7869e-04 - accuracy: 1.0000 - val_loss: 0.0337 - val_accuracy: 0.9916\n",
      "Epoch 10/10\n",
      "75/75 [==============================] - 132s 2s/step - loss: 3.8289e-04 - accuracy: 1.0000 - val_loss: 0.0317 - val_accuracy: 0.9950\n"
     ]
    }
   ],
   "source": [
    "history2 = model.fit(train_generator, epochs=10, validation_data=test_generator)\n"
   ]
  },
  {
   "cell_type": "markdown",
   "id": "204560a7",
   "metadata": {},
   "source": [
    "### Iteration 3\n",
    "\n",
    "In iteration 3, add a third convolutional layer. There were only two in iteration 2.\n",
    "\n",
    "val_loss: 0.0562 - val_accuracy: 0.9782"
   ]
  },
  {
   "cell_type": "code",
   "execution_count": 4,
   "id": "8ad6fcbc",
   "metadata": {},
   "outputs": [
    {
     "name": "stdout",
     "output_type": "stream",
     "text": [
      "Model: \"sequential\"\n",
      "_________________________________________________________________\n",
      " Layer (type)                Output Shape              Param #   \n",
      "=================================================================\n",
      " conv2d (Conv2D)             (None, 198, 198, 32)      896       \n",
      "                                                                 \n",
      " max_pooling2d (MaxPooling2D  (None, 99, 99, 32)       0         \n",
      " )                                                               \n",
      "                                                                 \n",
      " conv2d_1 (Conv2D)           (None, 97, 97, 32)        9248      \n",
      "                                                                 \n",
      " max_pooling2d_1 (MaxPooling  (None, 48, 48, 32)       0         \n",
      " 2D)                                                             \n",
      "                                                                 \n",
      " conv2d_2 (Conv2D)           (None, 46, 46, 32)        9248      \n",
      "                                                                 \n",
      " max_pooling2d_2 (MaxPooling  (None, 23, 23, 32)       0         \n",
      " 2D)                                                             \n",
      "                                                                 \n",
      " flatten (Flatten)           (None, 16928)             0         \n",
      "                                                                 \n",
      " dense (Dense)               (None, 128)               2166912   \n",
      "                                                                 \n",
      " dense_1 (Dense)             (None, 1)                 129       \n",
      "                                                                 \n",
      "=================================================================\n",
      "Total params: 2,186,433\n",
      "Trainable params: 2,186,433\n",
      "Non-trainable params: 0\n",
      "_________________________________________________________________\n"
     ]
    }
   ],
   "source": [
    "from keras.models import Sequential\n",
    "from keras.layers import Conv2D, MaxPooling2D, Flatten, Dense\n",
    "\n",
    "\n",
    "# Initialize the CNN\n",
    "model = Sequential()\n",
    "\n",
    "# Add convolutional layer \n",
    "model.add(Conv2D(32, (3, 3), activation='relu', input_shape=(200, 200, 3)))  \n",
    "model.add(MaxPooling2D((2, 2)))                                              \n",
    "\n",
    "# Add another convolutional layer \n",
    "model.add(Conv2D(32, (3, 3), activation='relu')) \n",
    "model.add(MaxPooling2D((2, 2)))\n",
    "\n",
    "# Add convolutional layer  \n",
    "model.add(Conv2D(32, (3, 3), activation='relu')) \n",
    "model.add(MaxPooling2D((2, 2)))\n",
    "\n",
    "\n",
    "\n",
    "# Flatten the output of the convolutional layers   \n",
    "model.add(Flatten())                                                    \n",
    "\n",
    "# Add a fully connected layer\n",
    "model.add(Dense(128, activation='relu'))\n",
    "\n",
    "# Add the output layer\n",
    "model.add(Dense(1, activation='sigmoid'))  \n",
    "# Compile the model\n",
    "model.compile(optimizer='adam', loss='binary_crossentropy', metrics=['accuracy'])\n",
    "\n",
    "# Print model summary\n",
    "model.summary()"
   ]
  },
  {
   "cell_type": "code",
   "execution_count": 5,
   "id": "e670edce",
   "metadata": {},
   "outputs": [
    {
     "name": "stdout",
     "output_type": "stream",
     "text": [
      "Epoch 1/10\n",
      "75/75 [==============================] - 185s 2s/step - loss: 0.5915 - accuracy: 0.6580 - val_loss: 0.4334 - val_accuracy: 0.7772\n",
      "Epoch 2/10\n",
      "75/75 [==============================] - 172s 2s/step - loss: 0.2499 - accuracy: 0.9038 - val_loss: 0.1675 - val_accuracy: 0.9380\n",
      "Epoch 3/10\n",
      "75/75 [==============================] - 169s 2s/step - loss: 0.1450 - accuracy: 0.9411 - val_loss: 0.1374 - val_accuracy: 0.9548\n",
      "Epoch 4/10\n",
      "75/75 [==============================] - 238s 3s/step - loss: 0.0755 - accuracy: 0.9745 - val_loss: 0.0799 - val_accuracy: 0.9698\n",
      "Epoch 5/10\n",
      "75/75 [==============================] - 223s 3s/step - loss: 0.0587 - accuracy: 0.9804 - val_loss: 0.1149 - val_accuracy: 0.9497\n",
      "Epoch 6/10\n",
      "75/75 [==============================] - 210s 3s/step - loss: 0.0547 - accuracy: 0.9808 - val_loss: 0.0511 - val_accuracy: 0.9782\n",
      "Epoch 7/10\n",
      "75/75 [==============================] - 200s 3s/step - loss: 0.0319 - accuracy: 0.9891 - val_loss: 0.0504 - val_accuracy: 0.9832\n",
      "Epoch 8/10\n",
      "75/75 [==============================] - 221s 3s/step - loss: 0.0274 - accuracy: 0.9916 - val_loss: 0.0430 - val_accuracy: 0.9883\n",
      "Epoch 9/10\n",
      "75/75 [==============================] - 211s 3s/step - loss: 0.0162 - accuracy: 0.9946 - val_loss: 0.0449 - val_accuracy: 0.9883\n",
      "Epoch 10/10\n",
      "75/75 [==============================] - 202s 3s/step - loss: 0.0070 - accuracy: 0.9983 - val_loss: 0.0562 - val_accuracy: 0.9782\n"
     ]
    }
   ],
   "source": [
    "history3 = model.fit(train_generator, epochs=10, validation_data=test_generator)\n"
   ]
  },
  {
   "cell_type": "markdown",
   "id": "103e4a3c",
   "metadata": {},
   "source": [
    "### iteration 4\n",
    "\n",
    "Copy iteration 2 and try gradient descent for the optimizer. Adam was used as the optimizer in previous iterations.\n",
    "\n",
    "val_loss: 0.1405 - val_accuracy: 0.9631"
   ]
  },
  {
   "cell_type": "code",
   "execution_count": 6,
   "id": "f20b572e",
   "metadata": {},
   "outputs": [
    {
     "name": "stdout",
     "output_type": "stream",
     "text": [
      "Model: \"sequential_1\"\n",
      "_________________________________________________________________\n",
      " Layer (type)                Output Shape              Param #   \n",
      "=================================================================\n",
      " conv2d_3 (Conv2D)           (None, 198, 198, 32)      896       \n",
      "                                                                 \n",
      " max_pooling2d_3 (MaxPooling  (None, 99, 99, 32)       0         \n",
      " 2D)                                                             \n",
      "                                                                 \n",
      " conv2d_4 (Conv2D)           (None, 97, 97, 32)        9248      \n",
      "                                                                 \n",
      " max_pooling2d_4 (MaxPooling  (None, 48, 48, 32)       0         \n",
      " 2D)                                                             \n",
      "                                                                 \n",
      " flatten_1 (Flatten)         (None, 73728)             0         \n",
      "                                                                 \n",
      " dense_2 (Dense)             (None, 128)               9437312   \n",
      "                                                                 \n",
      " dense_3 (Dense)             (None, 1)                 129       \n",
      "                                                                 \n",
      "=================================================================\n",
      "Total params: 9,447,585\n",
      "Trainable params: 9,447,585\n",
      "Non-trainable params: 0\n",
      "_________________________________________________________________\n"
     ]
    }
   ],
   "source": [
    "from keras.models import Sequential\n",
    "from keras.layers import Conv2D, MaxPooling2D, Flatten, Dense\n",
    "\n",
    "\n",
    "# Initialize the CNN\n",
    "model = Sequential()\n",
    "\n",
    "# Add convolutional layer\n",
    "\n",
    "model.add(Conv2D(32, (3, 3), activation='relu', input_shape=(200, 200, 3)))  \n",
    "model.add(MaxPooling2D((2, 2)))\n",
    "\n",
    "model.add(Conv2D(32, (3, 3), activation='relu')) \n",
    "model.add(MaxPooling2D((2, 2)))\n",
    "\n",
    "\n",
    "# Flatten the output of the convolutional layers\n",
    "model.add(Flatten())\n",
    "\n",
    "# Add a fully connected layer\n",
    "model.add(Dense(128, activation='relu'))\n",
    "\n",
    "# Add the output layer\n",
    "model.add(Dense(1, activation='sigmoid'))  \n",
    "\n",
    "# Compile the model\n",
    "model.compile(optimizer='sgd', loss='binary_crossentropy', metrics=['accuracy'])\n",
    "\n",
    "# Print model summary\n",
    "model.summary()"
   ]
  },
  {
   "cell_type": "code",
   "execution_count": 7,
   "id": "b209a6f1",
   "metadata": {},
   "outputs": [
    {
     "name": "stdout",
     "output_type": "stream",
     "text": [
      "Epoch 1/10\n",
      "75/75 [==============================] - 246s 3s/step - loss: 0.6747 - accuracy: 0.5778 - val_loss: 0.6552 - val_accuracy: 0.5561\n",
      "Epoch 2/10\n",
      "75/75 [==============================] - 257s 3s/step - loss: 0.6458 - accuracy: 0.6191 - val_loss: 0.6165 - val_accuracy: 0.6951\n",
      "Epoch 3/10\n",
      "75/75 [==============================] - 235s 3s/step - loss: 0.6090 - accuracy: 0.6827 - val_loss: 0.5569 - val_accuracy: 0.7554\n",
      "Epoch 4/10\n",
      "75/75 [==============================] - 273s 4s/step - loss: 0.5519 - accuracy: 0.7241 - val_loss: 0.4910 - val_accuracy: 0.7973\n",
      "Epoch 5/10\n",
      "75/75 [==============================] - 302s 4s/step - loss: 0.4728 - accuracy: 0.8002 - val_loss: 0.3881 - val_accuracy: 0.8543\n",
      "Epoch 6/10\n",
      "75/75 [==============================] - 303s 4s/step - loss: 0.3982 - accuracy: 0.8365 - val_loss: 0.2993 - val_accuracy: 0.8878\n",
      "Epoch 7/10\n",
      "75/75 [==============================] - 229s 3s/step - loss: 0.3458 - accuracy: 0.8612 - val_loss: 0.2724 - val_accuracy: 0.9213\n",
      "Epoch 8/10\n",
      "75/75 [==============================] - 216s 3s/step - loss: 0.2543 - accuracy: 0.9097 - val_loss: 0.2492 - val_accuracy: 0.9280\n",
      "Epoch 9/10\n",
      "75/75 [==============================] - 212s 3s/step - loss: 0.2128 - accuracy: 0.9214 - val_loss: 0.3780 - val_accuracy: 0.8308\n",
      "Epoch 10/10\n",
      "75/75 [==============================] - 212s 3s/step - loss: 0.1768 - accuracy: 0.9356 - val_loss: 0.1405 - val_accuracy: 0.9631\n"
     ]
    }
   ],
   "source": [
    "history4 = model.fit(train_generator, epochs=10, validation_data=test_generator)"
   ]
  }
 ],
 "metadata": {
  "kernelspec": {
   "display_name": "Python 3 (ipykernel)",
   "language": "python",
   "name": "python3"
  },
  "language_info": {
   "codemirror_mode": {
    "name": "ipython",
    "version": 3
   },
   "file_extension": ".py",
   "mimetype": "text/x-python",
   "name": "python",
   "nbconvert_exporter": "python",
   "pygments_lexer": "ipython3",
   "version": "3.9.7"
  }
 },
 "nbformat": 4,
 "nbformat_minor": 5
}
